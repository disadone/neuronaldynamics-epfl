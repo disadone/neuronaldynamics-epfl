{
 "cells": [
  {
   "cell_type": "markdown",
   "metadata": {},
   "source": [
    "# Notes: [Hopfield Model](https://neuronaldynamics.epfl.ch/online/Ch17.S2.html)"
   ]
  },
  {
   "cell_type": "markdown",
   "metadata": {},
   "source": [
    "The **Hopfield model**,consists of a network of $N$ neurons, labeled by a lower index $i$, with $1\\leq i\\leq N$.\n",
    "\n",
    "neurons in the Hopfield model have only ***two states***. A neuron $i$ is ‘ON’ if its state variable takes the value $S_i=+1$ and ‘OFF’ (silent) if $S_i=−1$.\n",
    "\n",
    "The dynamics evolves in discrete time with time steps $\\Delta t$. If we take $\\Delta t=1ms$, we can interpret $S_i(t)=+1$ as an ***action potential*** of neuron $i$ at time $t$. If we take $\\Delta t=500ms$, $S_i(t)=+1$ should rather be interpreted as an episode of ***high firing rate***.\n",
    "\n",
    "Neurons interact with each other with **weights** $w_{ij}$. The input potential of neuron $i$, influenced by the activity of other neurons is\n",
    "\n",
    "$$h_i(t)=\\sum_j w_{ij}S_j(t)$$\n",
    "\n",
    "The input potential at time $t$ influences the **probabilistic update of the state variable** $S_i$ in the next time step:\n",
    "\n",
    "$$Prob\\left\\{S_i(t+\\Delta t)=+1|h_i(t)\\right\\}=g(h_i(t))=g(\\sum_j w_{ij}S_j(t))$$\n",
    "\n",
    "where $g$ is a monotonically increasing gain function with values between zero and one. A common choice is $g(h)=0.5[1+\\mathrm{tanh}(\\beta h)]$ with a parameter $\\beta$. For $beta\\rightarrow\\infty$, we have $g(h)=1$ for $h>0$ and zero otherwise. The dynamics are therefore deterministic and summarized by the **update rule**\n",
    "\n",
    "$$S_i(t+\\Delta t)=\\mathrm{sgn}\\left[h(t)\\right]$$\n"
   ]
  },
  {
   "cell_type": "markdown",
   "metadata": {},
   "source": [
    "## Detour: Magnetic analogy"
   ]
  },
  {
   "cell_type": "markdown",
   "metadata": {},
   "source": [
    "At high temperature, the magnetic moments of individual atoms point in all possible directions. \n",
    "\n",
    "Below a critical temperature, however, the magnetic moment of all atoms spontaneously align with each other. \n",
    "\n",
    "We assume that $w_{ij}=w_0>0$ between all pairs of neurons $i\\neq j$. and that self-interaction vanishes, $w_{ii}=0$.\n",
    " \n",
    "Each atom is characterized by a spin variable $S_i=\\pm 1$ where $S_i=+1$ indicates that the magnetic moment of atom $i$ points 'upward'. Suppose that, at time $t=0$, all spins take a positive value ($S_I=+1$), except that of atom $i$ which has a value $S_i(0)=−1$. We calculate the probability that, at time step $t=\\Delta t$, the spin of neuron $i$ will switch to $S_i=+1$.\n",
    "\n",
    "$$\\mathrm{Prob}\\left\\{S_i(t+\\Delta t)=+1|h_i(t)\\right\\}=g(h_i(t))\n",
    "=g(\\sum_{j=1}^N w_{ij}S_j(t))=g(w_0(N-1))$$\n",
    "\n",
    "where we have used our assumptions. With $g(h)=0.5\\left[1+\\mathrm{tanh}(\\beta h)\\right]$ and $w_0=\\beta=1$, we find that for any network of more than three atoms, the probability that the magnetic moments of all atoms would align is extremely high.In physical systems, $\\beta$ plays the role of an **inverse temperature**. If $\\beta$ becomes small (high temperature), the magnetic moments no longer align and the material loses its spontaneous magnetization.\n",
    "\n",
    "To model an **anti-ferromagnet**, we choose interactions $w_{ij}=+1$ if $i$ and $j$ belong to the same class (e.g., both are in a layer of type A or both in a layer of type B), and $w_{ij}=-1$ if one of the two atoms belongs to type A and the other to type B. \n",
    "\n",
    "The rule extracted from the anti-ferromagnet implies that pixels of opposite color are connected by negative weights, while pixels of the same color have connections with positive weight. This rule can be formalized as\n",
    "\n",
    "$$w_{ij}=p_i p_j$$\n",
    "\n",
    "This rule forms ***the basis of the Hopfield model***.\n",
    "\n",
    "active $p_i=+1$\n",
    "\n",
    "inactive $p_i=-1$"
   ]
  },
  {
   "cell_type": "markdown",
   "metadata": {},
   "source": [
    "## Patterns in the Hopfield model\n"
   ]
  },
  {
   "cell_type": "markdown",
   "metadata": {},
   "source": [
    "The task of the network is to store and recall M different patterns. **Patterns** are labeled by the index $\\mu$ with $1\\leq\\mu\\leq M$. \n",
    "\n",
    "Each **pattern** $\\mu$ is defined as a desired configuration $\\left\\{p^{\\mu}_i=\\pm 1,1\\leq i \\leq M\\right\\}$. \n",
    "\n",
    "The network of $N$ neurons is said to correctly represent pattern $\\mu$, if the state of all neurons $1\\leq i\\leq N$ is $S_i(t)=S_i(t+\\Delta t)=p^{\\mu}_i$. In other words, patterns must be fixed points of the dynamics.\n",
    "\n",
    "\n",
    "During the ***set-up phase*** of the Hopfield network, a random number generator generates, for each **pattern** $\\mu$ a string of $N$ independent binary numbers $\\left\\{p^{\\mu}_i=\\pm 1,1\\leq i \\leq M\\right\\}$ with expectation value $\\langle p^\\mu_i\\rangle=0$. Strings of different patterns are independent. The weights are chosen as\n",
    "\n",
    "$$w_{ij}=c\\sum_{\\mu=1}^M p^\\mu_i p^\\mu_j$$\n",
    "\n",
    "with a positive constant $c>0$.\n",
    "\n",
    "\n",
    "<img src='figures/8-17.7.png'/>"
   ]
  },
  {
   "cell_type": "markdown",
   "metadata": {},
   "source": [
    "## Pattern retrieval"
   ]
  },
  {
   "cell_type": "markdown",
   "metadata": {},
   "source": [
    "In order to mimic memory retrieval in the Hopfield model, an input is given by ***initializing*** the network in a state $S(t_0)={S_i(t_0),1\\leq i\\leq N}$.\n",
    "\n",
    "In order to measure the similarity between the **current state**  $S(t)=\\left\\{S_i(t);1\\leq i\\leq N\\right\\}$ and a **pattern** $\\mu$, we introduce the **overlap**\n",
    "\n",
    "$$m^\\mu(t)=\\frac{1}{N}\\sum_i p^\\mu_i S_i(t)$$\n",
    "\n",
    "The **overlap** takes a maximum value of $1$, if $S_i(t)=p^\\mu_i$, i.e., if the **pattern** is retrieved. It is close to zero if the current state has no correlation with pattern $\\mu$. The minimum value $m_\\mu(t)=-1$ is achieved if each neuron takes the opposite value to that desired in pattern $\\mu$.\n",
    "\n",
    "the input potential $h_i$ of a neuron $i$ is\n",
    "\n",
    "$$h_i(t)=\\sum_j w_{ij} S_j(t)=\n",
    "c\\sum_{j=1}^N\\sum_{\\mu=1}^M p^\\mu_i p^\\mu_j S_j(t)=\n",
    "c N \\sum_{\\mu=1}^M p^\\mu_i m^\\mu(t)$$\n",
    "\n",
    "$$\\mathrm{Prob}\\left\\{S_i(t+\\Delta t)=+1|h_i(t)\\right\\}=\n",
    "g\\left[\\sum_{\\mu=1}^M p^\\mu_i m^\\mu(t)\\right]$$\n",
    "\n",
    "\n",
    "**Spurious correlations between pattern** $C^{\\mu\\nu}=(1/N)\\sum_i p^{\\mu}_i p^{\\nu}_i$"
   ]
  },
  {
   "cell_type": "markdown",
   "metadata": {},
   "source": [
    "## Memory capacity"
   ]
  },
  {
   "cell_type": "code",
   "execution_count": null,
   "metadata": {},
   "outputs": [],
   "source": []
  },
  {
   "cell_type": "markdown",
   "metadata": {},
   "source": [
    "# Codes: [Hopfield Network model of associative memory](https://neuronaldynamics-exercises.readthedocs.io/en/latest/exercises/hopfield-network.html)"
   ]
  },
  {
   "cell_type": "markdown",
   "metadata": {},
   "source": [
    "## Get started"
   ]
  },
  {
   "cell_type": "code",
   "execution_count": 16,
   "metadata": {},
   "outputs": [
    {
     "data": {
      "image/png": "[encoded data removed]",
      "text/plain": [
       "<Figure size 432x288 with 6 Axes>"
      ]
     },
     "metadata": {
      "needs_background": "light"
     },
     "output_type": "display_data"
    },
    {
     "data": {
      "image/png": "[encoded data removed]",
      "text/plain": [
       "<Figure size 432x288 with 2 Axes>"
      ]
     },
     "metadata": {
      "needs_background": "light"
     },
     "output_type": "display_data"
    },
    {
     "data": {
      "image/png": "[encoded data removed]",
      "text/plain": [
       "<Figure size 432x288 with 12 Axes>"
      ]
     },
     "metadata": {
      "needs_background": "light"
     },
     "output_type": "display_data"
    }
   ],
   "source": [
    "%matplotlib inline\n",
    "from neurodynex.hopfield_network import network, pattern_tools, plot_tools\n",
    "\n",
    "pattern_size = 5\n",
    "\n",
    "# create an instance of the class HopfieldNetwork\n",
    "hopfield_net = network.HopfieldNetwork(nr_neurons= pattern_size**2)\n",
    "# instantiate a pattern factory\n",
    "factory = pattern_tools.PatternFactory(pattern_size, pattern_size)\n",
    "# create a checkerboard pattern and add it to the pattern list\n",
    "checkerboard = factory.create_checkerboard()\n",
    "pattern_list = [checkerboard]\n",
    "\n",
    "# add random patterns to the list\n",
    "pattern_list.extend(factory.create_random_pattern_list(nr_patterns=5, on_probability=0.5))\n",
    "plot_tools.plot_pattern_list(pattern_list)\n",
    "# how similar are the random patterns and the checkerboard? Check the overlaps\n",
    "overlap_matrix = pattern_tools.compute_overlap_matrix(pattern_list)\n",
    "plot_tools.plot_overlap_matrix(overlap_matrix)\n",
    "\n",
    "# let the hopfield network \"learn\" the patterns. Note: they are not stored\n",
    "# explicitly but only network weights are updated !\n",
    "hopfield_net.store_patterns(pattern_list)\n",
    "\n",
    "# create a noisy version of a pattern and use that to initialize the network\n",
    "noisy_init_state = pattern_tools.flip_n(checkerboard, nr_of_flips=4)\n",
    "hopfield_net.set_state_from_pattern(noisy_init_state)\n",
    "\n",
    "# from this initial state, let the network dynamics evolve.\n",
    "states = hopfield_net.run_with_monitoring(nr_steps=5)\n",
    "\n",
    "# each network state is a vector. reshape it to the same shape used to create the patterns.\n",
    "states_as_patterns = factory.reshape_patterns(states)\n",
    "# plot the states of the network\n",
    "plot_tools.plot_state_sequence_and_overlap(states_as_patterns, pattern_list, reference_idx=0, suptitle=\"Network dynamics\")"
   ]
  },
  {
   "cell_type": "code",
   "execution_count": null,
   "metadata": {},
   "outputs": [],
   "source": [
    "network.HopfieldNetwork?"
   ]
  },
  {
   "cell_type": "code",
   "execution_count": 12,
   "metadata": {},
   "outputs": [],
   "source": [
    "pattern_tools.PatternFactory?"
   ]
  },
  {
   "cell_type": "code",
   "execution_count": 18,
   "metadata": {},
   "outputs": [],
   "source": [
    "pattern_tools.flip_n?"
   ]
  },
  {
   "cell_type": "markdown",
   "metadata": {},
   "source": [
    "## Introduction: Hopfield-networks"
   ]
  },
  {
   "cell_type": "markdown",
   "metadata": {},
   "source": [
    "## Exercise: N=4x4 Hopfield-network"
   ]
  },
  {
   "cell_type": "markdown",
   "metadata": {},
   "source": [
    "### Question:Storing a single pattern"
   ]
  },
  {
   "cell_type": "code",
   "execution_count": 19,
   "metadata": {},
   "outputs": [
    {
     "data": {
      "image/png": "[encoded data removed]",
      "text/plain": [
       "<Figure size 432x288 with 10 Axes>"
      ]
     },
     "metadata": {
      "needs_background": "light"
     },
     "output_type": "display_data"
    }
   ],
   "source": [
    "# nr_flipped_pixels=5\n",
    "%matplotlib inline\n",
    "from neurodynex.hopfield_network import network, pattern_tools, plot_tools\n",
    "\n",
    "pattern_size = 4\n",
    "\n",
    "# Create a network with N=16 neurons.\n",
    "hopfield_net = network.HopfieldNetwork(\n",
    "    nr_neurons= pattern_size**2)\n",
    "# Create a single 4 by 4 checkerboard pattern.\n",
    "factory = pattern_tools.PatternFactory(\n",
    "    pattern_size, pattern_size)\n",
    "# Store the checkerboard in the network.\n",
    "checkerboard = factory.create_checkerboard()\n",
    "pattern_list = [checkerboard]\n",
    "\n",
    "# Set the initial state of the network to a noisy version of the checkerboard (nr_flipped_pixels = 5).\n",
    "noisy_init_state = pattern_tools.flip_n(checkerboard, nr_of_flips=5)\n",
    "hopfield_net.set_state_from_pattern(noisy_init_state)\n",
    "\n",
    "# Let the network dynamics evolve for 4 iterations.\n",
    "states = hopfield_net.run_with_monitoring(nr_steps=4)\n",
    "\n",
    "# each network state is a vector. reshape it to the same shape used to create the patterns.\n",
    "states_as_patterns = factory.reshape_patterns(states)\n",
    "# plot the states of the network\n",
    "plot_tools.plot_state_sequence_and_overlap(\n",
    "    states_as_patterns, pattern_list, reference_idx=0, \n",
    "    suptitle=\"Network dynamics\")"
   ]
  },
  {
   "cell_type": "code",
   "execution_count": 21,
   "metadata": {},
   "outputs": [
    {
     "data": {
      "image/png": "[encoded data removed]",
      "text/plain": [
       "<Figure size 432x288 with 10 Axes>"
      ]
     },
     "metadata": {
      "needs_background": "light"
     },
     "output_type": "display_data"
    }
   ],
   "source": [
    "# nr_flipped_pixels=8\n",
    "\n",
    "%matplotlib inline\n",
    "from neurodynex.hopfield_network import network, pattern_tools, plot_tools\n",
    "\n",
    "pattern_size = 4\n",
    "\n",
    "# Create a network with N=16 neurons.\n",
    "hopfield_net = network.HopfieldNetwork(\n",
    "    nr_neurons= pattern_size**2)\n",
    "# Create a single 4 by 4 checkerboard pattern.\n",
    "factory = pattern_tools.PatternFactory(\n",
    "    pattern_size, pattern_size)\n",
    "# Store the checkerboard in the network.\n",
    "checkerboard = factory.create_checkerboard()\n",
    "pattern_list = [checkerboard]\n",
    "\n",
    "# Set the initial state of the network to a noisy version of the checkerboard (nr_flipped_pixels = 5).\n",
    "noisy_init_state = pattern_tools.flip_n(checkerboard, nr_of_flips=8)\n",
    "hopfield_net.set_state_from_pattern(noisy_init_state)\n",
    "\n",
    "# Let the network dynamics evolve for 4 iterations.\n",
    "states = hopfield_net.run_with_monitoring(nr_steps=4)\n",
    "\n",
    "# each network state is a vector. reshape it to the same shape used to create the patterns.\n",
    "states_as_patterns = factory.reshape_patterns(states)\n",
    "# plot the states of the network\n",
    "plot_tools.plot_state_sequence_and_overlap(\n",
    "    states_as_patterns, pattern_list, reference_idx=0, \n",
    "    suptitle=\"Network dynamics\")"
   ]
  },
  {
   "cell_type": "code",
   "execution_count": 22,
   "metadata": {},
   "outputs": [
    {
     "data": {
      "image/png": "[encoded data removed]",
      "text/plain": [
       "<Figure size 432x288 with 10 Axes>"
      ]
     },
     "metadata": {
      "needs_background": "light"
     },
     "output_type": "display_data"
    }
   ],
   "source": [
    "# nr_flipped_pixels>8\n",
    "\n",
    "%matplotlib inline\n",
    "from neurodynex.hopfield_network import network, pattern_tools, plot_tools\n",
    "\n",
    "pattern_size = 4\n",
    "\n",
    "# Create a network with N=16 neurons.\n",
    "hopfield_net = network.HopfieldNetwork(\n",
    "    nr_neurons= pattern_size**2)\n",
    "# Create a single 4 by 4 checkerboard pattern.\n",
    "factory = pattern_tools.PatternFactory(\n",
    "    pattern_size, pattern_size)\n",
    "# Store the checkerboard in the network.\n",
    "checkerboard = factory.create_checkerboard()\n",
    "pattern_list = [checkerboard]\n",
    "\n",
    "# Set the initial state of the network to a noisy version of the checkerboard (nr_flipped_pixels = 5).\n",
    "noisy_init_state = pattern_tools.flip_n(checkerboard, nr_of_flips=12)\n",
    "hopfield_net.set_state_from_pattern(noisy_init_state)\n",
    "\n",
    "# Let the network dynamics evolve for 4 iterations.\n",
    "states = hopfield_net.run_with_monitoring(nr_steps=4)\n",
    "\n",
    "# each network state is a vector. reshape it to the same shape used to create the patterns.\n",
    "states_as_patterns = factory.reshape_patterns(states)\n",
    "# plot the states of the network\n",
    "plot_tools.plot_state_sequence_and_overlap(\n",
    "    states_as_patterns, pattern_list, reference_idx=0, \n",
    "    suptitle=\"Network dynamics\")"
   ]
  },
  {
   "cell_type": "markdown",
   "metadata": {},
   "source": [
    "### Question: the weights matrix"
   ]
  },
  {
   "cell_type": "code",
   "execution_count": 72,
   "metadata": {},
   "outputs": [
    {
     "data": {
      "image/png": "[encoded data removed]",
      "text/plain": [
       "<Figure size 432x288 with 2 Axes>"
      ]
     },
     "metadata": {
      "needs_background": "light"
     },
     "output_type": "display_data"
    }
   ],
   "source": [
    "%matplotlib inline\n",
    "from neurodynex.hopfield_network import network, pattern_tools, plot_tools\n",
    "# object 1,2,3\n",
    "pattern_size = 4\n",
    "# Create a network with N=16 neurons.\n",
    "hopfield_net = network.HopfieldNetwork(\n",
    "    nr_neurons= pattern_size**2)\n",
    "#size is 4\n",
    "hopfield_net.run(nr_steps=100)\n",
    "plot_tools.plot_nework_weights(hopfield_network=hopfield_net)"
   ]
  },
  {
   "cell_type": "code",
   "execution_count": 89,
   "metadata": {},
   "outputs": [
    {
     "data": {
      "image/png": "[encoded data removed]",
      "text/plain": [
       "<Figure size 432x288 with 2 Axes>"
      ]
     },
     "metadata": {
      "needs_background": "light"
     },
     "output_type": "display_data"
    }
   ],
   "source": [
    "# object 4,5\n",
    "# Create a single 4 by 4 checkerboard pattern.\n",
    "factory = pattern_tools.PatternFactory(\n",
    "    pattern_size, pattern_size)\n",
    "# Store the checkerboard in the network.\n",
    "checkerboard = factory.create_checkerboard()\n",
    "pattern_list=[checkerboard]\n",
    "hopfield_net.store_patterns(pattern_list)\n",
    "# indifferent from thr former one ?\n",
    "hopfield_net.run(nr_steps=100)\n",
    "plot_tools.plot_nework_weights(hopfield_network=hopfield_net)"
   ]
  },
  {
   "cell_type": "code",
   "execution_count": 90,
   "metadata": {},
   "outputs": [
    {
     "data": {
      "image/png": "[encoded data removed]",
      "text/plain": [
       "<Figure size 432x288 with 2 Axes>"
      ]
     },
     "metadata": {
      "needs_background": "light"
     },
     "output_type": "display_data"
    }
   ],
   "source": [
    "# object 6,7,8\n",
    "pattern_size=4\n",
    "# Create a network with N=16 neurons.\n",
    "hopfield_net=network.HopfieldNetwork(\n",
    "    nr_neurons=pattern_size**2)\n",
    "# Create a single 4 by 4 checkerboard pattern.\n",
    "factory = pattern_tools.PatternFactory(\n",
    "    pattern_size, pattern_size)\n",
    "# Store the checkerboard in the network.\n",
    "L_pattern = factory.create_L_pattern()\n",
    "pattern_list=[L_pattern]\n",
    "hopfield_net.store_patterns(pattern_list)\n",
    "hopfield_net.run(nr_steps=100)\n",
    "plot_tools.plot_nework_weights(hopfield_network=hopfield_net)"
   ]
  },
  {
   "cell_type": "code",
   "execution_count": 91,
   "metadata": {},
   "outputs": [
    {
     "data": {
      "image/png": "[encoded data removed]",
      "text/plain": [
       "<Figure size 432x288 with 2 Axes>"
      ]
     },
     "metadata": {
      "needs_background": "light"
     },
     "output_type": "display_data"
    }
   ],
   "source": [
    "# object 9,10,11\n",
    "import numpy as np\n",
    "pattern_size = 4\n",
    "# Create a network with N=16 neurons.\n",
    "hopfield_net = network.HopfieldNetwork(\n",
    "    nr_neurons= pattern_size**2)\n",
    "# Create a single 4 by 4 checkerboard pattern.\n",
    "factory = pattern_tools.PatternFactory(\n",
    "    pattern_size, pattern_size)\n",
    "# Store the checkerboard in the network.\n",
    "checkerboard = factory.create_checkerboard()\n",
    "L_pattern = factory.create_L_pattern()\n",
    "pattern_list = [checkerboard,L_pattern]\n",
    "hopfield_net.store_patterns(pattern_list)\n",
    "hopfield_net.run(nr_steps=100)\n",
    "plot_tools.plot_nework_weights(hopfield_network=hopfield_net)"
   ]
  },
  {
   "cell_type": "markdown",
   "metadata": {},
   "source": [
    "### Question (optional): Weights Distribution\n"
   ]
  },
  {
   "cell_type": "code",
   "execution_count": null,
   "metadata": {},
   "outputs": [],
   "source": []
  }
 ],
 "metadata": {
  "kernelspec": {
   "display_name": "Python 3",
   "language": "python",
   "name": "python3"
  },
  "language_info": {
   "codemirror_mode": {
    "name": "ipython",
    "version": 3
   },
   "file_extension": ".py",
   "mimetype": "text/x-python",
   "name": "python",
   "nbconvert_exporter": "python",
   "pygments_lexer": "ipython3",
   "version": "3.7.3"
  },
  "latex_envs": {
   "LaTeX_envs_menu_present": true,
   "autoclose": false,
   "autocomplete": true,
   "bibliofile": "biblio.bib",
   "cite_by": "apalike",
   "current_citInitial": 1,
   "eqLabelWithNumbers": true,
   "eqNumInitial": 1,
   "hotkeys": {
    "equation": "Ctrl-E",
    "itemize": "Ctrl-I"
   },
   "labels_anchors": false,
   "latex_user_defs": false,
   "report_style_numbering": false,
   "user_envs_cfg": false
  },
  "toc": {
   "base_numbering": 1,
   "nav_menu": {},
   "number_sections": true,
   "sideBar": true,
   "skip_h1_title": false,
   "title_cell": "Table of Contents",
   "title_sidebar": "Contents",
   "toc_cell": false,
   "toc_position": {},
   "toc_section_display": true,
   "toc_window_display": false
  }
 },
 "nbformat": 4,
 "nbformat_minor": 2
}
